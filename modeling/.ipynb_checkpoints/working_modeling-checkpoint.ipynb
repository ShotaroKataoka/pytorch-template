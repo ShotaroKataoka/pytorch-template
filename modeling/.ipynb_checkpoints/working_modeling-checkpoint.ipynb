{
 "cells": [
  {
   "cell_type": "markdown",
   "metadata": {},
   "source": [
    "# modelのインポート"
   ]
  },
  {
   "cell_type": "code",
   "execution_count": 3,
   "metadata": {},
   "outputs": [
    {
     "data": {
      "text/plain": [
       "Modeling(\n",
       "  (fc_in): Linear(in_features=3, out_features=128, bias=True)\n",
       "  (hidden_module): HiddenLayer(\n",
       "    (fc_hidden): ModuleList(\n",
       "      (0): Linear(in_features=128, out_features=128, bias=True)\n",
       "      (1): Linear(in_features=128, out_features=128, bias=True)\n",
       "      (2): Linear(in_features=128, out_features=128, bias=True)\n",
       "    )\n",
       "    (relu): ReLU()\n",
       "  )\n",
       "  (fc): Linear(in_features=128, out_features=5, bias=True)\n",
       "  (relu): ReLU()\n",
       "  (softmax): Softmax(dim=0)\n",
       ")"
      ]
     },
     "execution_count": 3,
     "metadata": {},
     "output_type": "execute_result"
    }
   ],
   "source": [
    "from modeling import Modeling\n",
    "\n",
    "model = Modeling()\n",
    "model"
   ]
  },
  {
   "cell_type": "markdown",
   "metadata": {},
   "source": [
    "全結合層だけで構成されているニューラルネットワーク\n",
    "\n",
    "modelingでは入力―隠れ層－出力の流れで処理する。  \n",
    "隠れ層の処理はsub_module.HiddenLayerのインスタンスを作り実行している。  \n",
    "\n"
   ]
  },
  {
   "cell_type": "code",
   "execution_count": 5,
   "metadata": {},
   "outputs": [
    {
     "data": {
      "text/plain": [
       "tensor([0.1622, 0.2143, 0.1400, 0.1909, 0.2926], grad_fn=<SoftmaxBackward>)"
      ]
     },
     "execution_count": 5,
     "metadata": {},
     "output_type": "execute_result"
    }
   ],
   "source": [
    "import torch\n",
    "import torch.nn as nn\n",
    "\n",
    "# 入力データをランダム生成\n",
    "x = torch.rand(3)\n",
    "\n",
    "# モデルの出力を見る\n",
    "model(x)"
   ]
  }
 ],
 "metadata": {
  "kernelspec": {
   "display_name": "Python 3",
   "language": "python",
   "name": "python3"
  },
  "language_info": {
   "codemirror_mode": {
    "name": "ipython",
    "version": 3
   },
   "file_extension": ".py",
   "mimetype": "text/x-python",
   "name": "python",
   "nbconvert_exporter": "python",
   "pygments_lexer": "ipython3",
   "version": "3.6.7"
  }
 },
 "nbformat": 4,
 "nbformat_minor": 4
}
