{
 "cells": [
  {
   "cell_type": "markdown",
   "metadata": {},
   "source": [
    "# modelのインポート"
   ]
  },
  {
   "cell_type": "code",
   "execution_count": 1,
   "metadata": {},
   "outputs": [
    {
     "data": {
      "text/plain": [
       "Modeling(\n",
       "  (fc_in): Conv2d(3, 128, kernel_size=(3, 3), stride=(2, 2))\n",
       "  (blocks): Blocks(\n",
       "    (fc_hidden): ModuleList(\n",
       "      (0): Conv2d(128, 128, kernel_size=(3, 3), stride=(1, 1))\n",
       "      (1): Conv2d(128, 128, kernel_size=(3, 3), stride=(1, 1))\n",
       "      (2): Conv2d(128, 128, kernel_size=(3, 3), stride=(1, 1))\n",
       "    )\n",
       "    (relu): ReLU()\n",
       "  )\n",
       "  (conv_out): Conv2d(128, 256, kernel_size=(3, 3), stride=(2, 2))\n",
       "  (fc): Linear(in_features=256, out_features=5, bias=True)\n",
       "  (relu): ReLU()\n",
       "  (softmax): Softmax(dim=1)\n",
       ")"
      ]
     },
     "execution_count": 1,
     "metadata": {},
     "output_type": "execute_result"
    }
   ],
   "source": [
    "from modeling import Modeling\n",
    "\n",
    "model = Modeling()\n",
    "model"
   ]
  },
  {
   "cell_type": "code",
   "execution_count": 6,
   "metadata": {},
   "outputs": [
    {
     "name": "stdout",
     "output_type": "stream",
     "text": [
      "torch.Size([1, 5])\n",
      "tensor([[0.1991, 0.1958, 0.2041, 0.2048, 0.1963]], grad_fn=<SoftmaxBackward>)\n"
     ]
    }
   ],
   "source": [
    "import torch\n",
    "import torch.nn as nn\n",
    "\n",
    "# 入力データをランダム生成\n",
    "# batch_size=1, channel=3, image_size=(224, 224)\n",
    "x = torch.rand(1, 3, 224, 224)\n",
    "\n",
    "# モデルの出力を見る\n",
    "y = model(x)\n",
    "\n",
    "print(y.shape)\n",
    "print(y)"
   ]
  }
 ],
 "metadata": {
  "kernelspec": {
   "display_name": "Python 3",
   "language": "python",
   "name": "python3"
  },
  "language_info": {
   "codemirror_mode": {
    "name": "ipython",
    "version": 3
   },
   "file_extension": ".py",
   "mimetype": "text/x-python",
   "name": "python",
   "nbconvert_exporter": "python",
   "pygments_lexer": "ipython3",
   "version": "3.6.7"
  }
 },
 "nbformat": 4,
 "nbformat_minor": 4
}
